{
 "cells": [
  {
   "cell_type": "code",
   "execution_count": 2,
   "metadata": {
    "collapsed": false
   },
   "outputs": [
    {
     "name": "stderr",
     "output_type": "stream",
     "text": [
      "ERROR: File `u'../code/init_mooc_nb.ipy.py'` not found.\n"
     ]
    },
    {
     "ename": "NameError",
     "evalue": "name 'np' is not defined",
     "output_type": "error",
     "traceback": [
      "\u001b[1;31m---------------------------------------------------------------------------\u001b[0m",
      "\u001b[1;31mNameError\u001b[0m                                 Traceback (most recent call last)",
      "\u001b[1;32m<ipython-input-2-bd7a1320a9e8>\u001b[0m in \u001b[0;36m<module>\u001b[1;34m()\u001b[0m\n\u001b[0;32m      8\u001b[0m \u001b[1;31m# global variables\u001b[0m\u001b[1;33m\u001b[0m\u001b[1;33m\u001b[0m\u001b[0m\n\u001b[0;32m      9\u001b[0m \u001b[0mdefault_color_cycle\u001b[0m \u001b[1;33m=\u001b[0m \u001b[0mmatplotlib\u001b[0m\u001b[1;33m.\u001b[0m\u001b[0mrcParams\u001b[0m\u001b[1;33m[\u001b[0m\u001b[1;34m'axes.color_cycle'\u001b[0m\u001b[1;33m]\u001b[0m\u001b[1;33m\u001b[0m\u001b[0m\n\u001b[1;32m---> 10\u001b[1;33m \u001b[0msigma0\u001b[0m \u001b[1;33m=\u001b[0m \u001b[0mnp\u001b[0m\u001b[1;33m.\u001b[0m\u001b[0marray\u001b[0m\u001b[1;33m(\u001b[0m\u001b[1;33m[\u001b[0m\u001b[1;33m[\u001b[0m\u001b[1;36m1.\u001b[0m\u001b[1;33m,\u001b[0m \u001b[1;36m0.\u001b[0m\u001b[1;33m]\u001b[0m\u001b[1;33m,\u001b[0m \u001b[1;33m[\u001b[0m\u001b[1;36m0.\u001b[0m\u001b[1;33m,\u001b[0m \u001b[1;36m1.\u001b[0m\u001b[1;33m]\u001b[0m\u001b[1;33m]\u001b[0m\u001b[1;33m)\u001b[0m\u001b[1;33m\u001b[0m\u001b[0m\n\u001b[0m\u001b[0;32m     11\u001b[0m \u001b[0msigmax\u001b[0m \u001b[1;33m=\u001b[0m \u001b[0mnp\u001b[0m\u001b[1;33m.\u001b[0m\u001b[0marray\u001b[0m\u001b[1;33m(\u001b[0m\u001b[1;33m[\u001b[0m\u001b[1;33m[\u001b[0m\u001b[1;36m0.\u001b[0m\u001b[1;33m,\u001b[0m \u001b[1;36m1.\u001b[0m\u001b[1;33m]\u001b[0m\u001b[1;33m,\u001b[0m \u001b[1;33m[\u001b[0m\u001b[1;36m1.\u001b[0m\u001b[1;33m,\u001b[0m \u001b[1;36m0.\u001b[0m\u001b[1;33m]\u001b[0m\u001b[1;33m]\u001b[0m\u001b[1;33m)\u001b[0m\u001b[1;33m\u001b[0m\u001b[0m\n\u001b[0;32m     12\u001b[0m \u001b[0msigmay\u001b[0m \u001b[1;33m=\u001b[0m \u001b[0mnp\u001b[0m\u001b[1;33m.\u001b[0m\u001b[0marray\u001b[0m\u001b[1;33m(\u001b[0m\u001b[1;33m[\u001b[0m\u001b[1;33m[\u001b[0m\u001b[1;36m0.\u001b[0m\u001b[1;33m,\u001b[0m \u001b[1;33m-\u001b[0m\u001b[1;36m1j\u001b[0m\u001b[1;33m]\u001b[0m\u001b[1;33m,\u001b[0m \u001b[1;33m[\u001b[0m\u001b[1;36m1j\u001b[0m\u001b[1;33m,\u001b[0m \u001b[1;36m0.\u001b[0m\u001b[1;33m]\u001b[0m\u001b[1;33m]\u001b[0m\u001b[1;33m)\u001b[0m\u001b[1;33m\u001b[0m\u001b[0m\n",
      "\u001b[1;31mNameError\u001b[0m: name 'np' is not defined"
     ]
    }
   ],
   "source": [
    "%run ../code/init_mooc_nb.ipy\n",
    "\n",
    "\n",
    "# additional imports\n",
    "from matplotlib import gridspec\n",
    "import matplotlib\n",
    "\n",
    "# global variables\n",
    "default_color_cycle = matplotlib.rcParams['axes.color_cycle']\n",
    "sigma0 = np.array([[1., 0.], [0., 1.]])\n",
    "sigmax = np.array([[0., 1.], [1., 0.]])\n",
    "sigmay = np.array([[0., -1j], [1j, 0.]])\n",
    "sigmaz = np.array([[1., 0.], [0., -1.]])\n",
    "\n",
    "\n",
    "# simulation related functions\n",
    "def spinful_kitaev_chain(L=None, t=1, delta=0.1, mu=0.1, B=0.1):\n",
    "    \"\"\" \n",
    "    Return finalized kwant system for a kitaev chain. \n",
    "    \n",
    "    For L=None function returns infinite (TranslationalSymmetry)\n",
    "    system. If L is set to positive integer the system is finite.\n",
    "    \"\"\"\n",
    "    lat = kwant.lattice.chain()\n",
    "    \n",
    "    if L is None:\n",
    "        sys = kwant.Builder(kwant.TranslationalSymmetry((-1,)))\n",
    "        L = 1\n",
    "    else:\n",
    "        sys = kwant.Builder()\n",
    "        \n",
    "    # Calculate Kronecker products.\n",
    "    szs0 = np.kron(sigmaz, sigma0)\n",
    "    szsz = np.kron(sigmaz, sigmaz)\n",
    "    sys0 = np.kron(sigmay, sigma0)\n",
    "    \n",
    "    # onsite terms\n",
    "    for x in xrange(L):\n",
    "        sys[lat(x)] = -(mu - 2*t) * szs0 + B * szsz\n",
    "         \n",
    "    # hopping terms\n",
    "    sys[kwant.HoppingKind((1,), lat)] = - t * szs0 - 1j * delta * sys0\n",
    "    \n",
    "    return sys.finalized()\n",
    "\n",
    "\n",
    "def nanowire_chain(L=None, t=1, mu=0.1, delta=0.1, B=0.1, alpha=0):\n",
    "    \"\"\" \n",
    "    Return finalized kwant system for a nanowire chain. \n",
    "    \n",
    "    For L=None function returns infinite (TranslationalSymmetry)\n",
    "    system. If L is set to positive integer the system is finite.\n",
    "    \"\"\"\n",
    "    lat = kwant.lattice.chain()\n",
    "    \n",
    "    if L is None:\n",
    "        sys = kwant.Builder(kwant.TranslationalSymmetry((-1,)))\n",
    "        L = 1\n",
    "    else:\n",
    "        sys = kwant.Builder()\n",
    "\n",
    "    # Calculate Kronecker products.\n",
    "    szs0 = np.kron(sigmaz, sigma0)\n",
    "    s0sz = np.kron(sigma0, sigmaz)\n",
    "    sxs0 = np.kron(sigmax, sigma0)\n",
    "    szsy = np.kron(sigmaz, sigmay)\n",
    "    \n",
    "    # onsite terms\n",
    "    for x in xrange(L):\n",
    "        sys[lat(x)] = (2*t - mu) * szs0 + B * s0sz + delta * sxs0\n",
    "         \n",
    "    # hopping terms\n",
    "    sys[kwant.HoppingKind((1,), lat)] = -t * szs0 - 0.5 * 1j * alpha * szsy\n",
    "    \n",
    "    return sys.finalized()\n",
    "\n",
    "    \n",
    "def spinorbit_band(t, mu, delta, B, alpha, steps=101):\n",
    "    \"\"\" Calculate band structure of nanowire chain with spin-orbit. \"\"\"\n",
    "    \n",
    "    ks=np.linspace(-np.pi/3, np.pi/3, steps)\n",
    "    sys = nanowire_chain(None, t, mu, delta, B, alpha)\n",
    "\n",
    "    fig, ax = plt.subplots()\n",
    "    ax.set_color_cycle(['k'])\n",
    "    kwant.plotter.bands(sys, momenta=ks, ax=ax)\n",
    "\n",
    "    ax.set_xlabel('$k$')\n",
    "    ax.set_xticks([-1.0, 0.0, 1.0])\n",
    "    ax.set_ylabel('$E$')\n",
    "    ax.set_xlim([-1.03, 1.03])\n",
    "    ax.set_ylim([-1.0, 1.0])\n",
    "    ax.set_yticks([-1.0, 0.0, 1.0])\n",
    "    fig.suptitle('$\\mu = %1.2f $, $B = %1.2f$, ' r' $\\alpha = %1.2f$, $\\Delta = %1.3f$' % (mu, B, alpha, delta))\n",
    "        \n",
    "    return fig\n",
    "\n",
    "def find_gap(sys, resolution=1e-4):\n",
    "    \"\"\"Find gap in a system by doing a binary search in energy.\"\"\"\n",
    "    # This tells us if there are modes at a certain energy.\n",
    "    if len(sys.modes(energy=0)[0].momenta):\n",
    "        return 0\n",
    "    gap = step = min(abs(kwant.physics.Bands(sys)(k=0))) / 2\n",
    "    while step > resolution:\n",
    "        step /= 2\n",
    "        if len(sys.modes(gap)[0].momenta):\n",
    "            gap -= step\n",
    "        else:\n",
    "            gap += step\n",
    "\n",
    "    return gap\n",
    "    \n",
    "\n",
    "def spinorbit_band_gap(mu, t, delta, B_vals):\n",
    "    gaps=[]\n",
    "    alphas = np.linspace(0, 0.3, 4)\n",
    "    # very slow, but understandable\n",
    "    for alpha in alphas:\n",
    "        temp_gaps = []\n",
    "        for B in B_vals:\n",
    "            sys = nanowire_chain(t=t, mu=mu, delta=delta, alpha=alpha, B=B)\n",
    "            temp_gaps.append(find_gap(sys))\n",
    "        gaps.append(np.array(temp_gaps))\n",
    "    \n",
    "    fig = plt.figure()\n",
    "    for gap, alpha in zip(gaps, alphas):\n",
    "        plt.plot(B_vals, gap, label= (r'$\\alpha = %1.1f $' % alpha))\n",
    "    plt.xlabel('$B$')\n",
    "    plt.ylabel('Band gap')\n",
    "    plt.xticks([0, 0.1, 0.2, 0.3])\n",
    "    ylim = [0.0, 0.14]\n",
    "    plt.ylim(ylim)\n",
    "    plt.yticks([0, 0.05, 0.1])\n",
    "    plt.legend(bbox_to_anchor=(0.0, 0.75, 1.0, .09), loc=3,\n",
    "               ncol=2, mode=\"expand\", borderaxespad=0., prop={'size':16})\n",
    "    #plt.subplots_adjust(top = 0.2)\n",
    "    plt.title(r'$\\mu = %1.3f$, $\\Delta = %1.1f$' % (mu, delta))\n",
    "    \n",
    "    # Add a vertical line to show where the topological region begins:\n",
    "    B_crit = np.sqrt(mu**2 + delta**2)\n",
    "    plt.plot([B_crit, B_crit], ylim, 'r--')\n",
    "    \n",
    "    return fig"
   ]
  },
  {
   "cell_type": "markdown",
   "metadata": {},
   "source": [
    "#Table of Contents\n",
    "* [From Kitaev model to an experiment](#From-Kitaev-model-to-an-experiment)\n",
    "* [Small parameters](#Small-parameters)\n",
    "* [The need for spin](#The-need-for-spin)\n",
    "* [Realistic superconducting pairing](#Realistic-superconducting-pairing)\n",
    "\t* &nbsp;\n",
    "\t\t* [Important and useful basis change.](#Important-and-useful-basis-change.)\n",
    "* [s-wave superconductor with magnetic field](#s-wave-superconductor-with-magnetic-field)\n",
    "\t* &nbsp;\n",
    "\t\t* [Problem with singlets](#Problem-with-singlets)\n",
    "* [How to open the gap?](#How-to-open-the-gap?)\n",
    "* [Putting everything together](#Putting-everything-together)\n",
    "* [Outlook](#Outlook)\n"
   ]
  },
  {
   "cell_type": "markdown",
   "metadata": {},
   "source": [
    "#Learning goal: Predict which terms in the nanowire model lead to which consequences for Majoranas.\n",
    "\n",
    "* Zeeman splitting allows to get rid of one spin.\n",
    "* Singlet pairing induces superconductivity, but can never open a gap on its own.\n",
    "* Spin-orbit coupling is only needed to help open the gap.\n",
    "* Size of the Majoranas depends on all the parameters, and the transition requires tuning $B_z$ and $\\mu$.\n",
    "\n",
    "**NO CONTENT ABOVE THIS LINE IS VISIBLE IN EDX**"
   ]
  },
  {
   "cell_type": "markdown",
   "metadata": {},
   "source": [
    "# From Kitaev model to an experiment"
   ]
  },
  {
   "cell_type": "markdown",
   "metadata": {},
   "source": [
    "We have a special guest to begin this week's lecture, Yuval Oreg from the Weizmann Institute in Rehovot."
   ]
  },
  {
   "cell_type": "code",
   "execution_count": null,
   "metadata": {
    "collapsed": false
   },
   "outputs": [],
   "source": [
    "MoocVideo(\"GQLfs4i22ms\", src_location=\"2.1-intro\")"
   ]
  },
  {
   "cell_type": "markdown",
   "metadata": {},
   "source": [
    "# Small parameters"
   ]
  },
  {
   "cell_type": "markdown",
   "metadata": {},
   "source": [
    "We are now all set to make Majoranas in a real system. Or at least to invent a way to make Majoranas in a real system.\n",
    "\n",
    "The way we approach this problem is by considering the Kitaev chain a 'skeleton', and 'dressing' it with real physics phenomena until it becomes real. \n",
    "\n",
    "> Interestingly, this is not at all how the condensed matter community came to this model. \n",
    "> Instead, the path to it was from complex to simple. The whole story started from what we'll consider in the very end of the course, the fractional particles.\n",
    "\n",
    "> Then it was simplified to topological superconductors (that still do not exist in real nature, as far as we know).\n",
    "> Then Majoranas were predicted to exist (week 7) in a combination of a 3D topological insulator (week 6), then that part was simplified to a two-dimensional topological insulator (week 5), and only after a few more simplification steps, the nanowire model was developed."
   ]
  },
  {
   "cell_type": "markdown",
   "metadata": {},
   "source": [
    "So once again, here is our 'skeleton', the Kitaev model Hamiltonian written in momentum space:\n",
    "\n",
    "$$H_{Kitaev} = (-2 t \\cos k -\\mu) \\tau_z + 2 \\Delta \\tau_y \\sin k$$\n",
    "\n",
    "The model seems OK for a start, because it has some superconducting pairing $\\Delta$ and some normal dispersion given by terms proportional to $\\mu$ and $t$.\n",
    "\n",
    "Before we proceed further, let's understand the relation between these parameters.\n",
    "\n",
    "First of all, we want to make a controllable system, so that we can tweak its parameters. That means that we need a **semiconductor**. In semiconductors the electron density is very low, so that the chemical potential is near the bottom of the band. This makes it easier to define $\\mu$ with respect to the bottom of the band:\n",
    "\n",
    "$$\\mu \\rightarrow \\mu - 2t.$$\n",
    "\n",
    "Now the transition between trivial and non-trivial states happens when $\\mu = 0$.\n",
    "\n",
    "Of course semiconductors are never additionally superconducting. Luckily this is easy for us to resolve. We just paste a superconductor and semiconductor together into a hybrid structure, and let the superconductor induce superconductivity in the semiconductor. Making such a hybrid is an extremely hard challenge from the material science point of view, but it's definitely not our problem for now.\n",
    "\n",
    "The next thing we should consider is that $\\mu$ will always stay small compared to the bandwidth, so $\\mu \\ll 2t$. The same holds for superconducting pairing: $\\Delta \\ll t$. This is because superconductivity is a very weak effect compared to kinetic energy of electrons. These two inequalities combined mean that we can expand the $\\cos k$ term and only work with the continuum limit of the Kitaev model:\n",
    "\n",
    "$$H = (k^2/2m - \\mu) \\tau_z + 2 \\Delta \\tau_y k.$$\n",
    "\n",
    "The effective electron mass $m$ is just the coefficient of the expansion. Let's take a look at the band structure in this regime, both in the topological regime and in the trivial regime:"
   ]
  },
  {
   "cell_type": "code",
   "execution_count": null,
   "metadata": {
    "collapsed": false
   },
   "outputs": [],
   "source": [
    "# matplotlib.rcParams['axes.color_cycle'] = 'k'\n",
    "\n",
    "f = plt.figure(figsize=[9, 3.5])\n",
    "ax0 = f.add_subplot(1, 2, 1)\n",
    "ax0.set_xlabel('$k$')\n",
    "ax0.set_xticks([-1.0, 0.0, 1.0])\n",
    "ax0.set_ylabel('$E$')\n",
    "ax0.set_xlim([-1.03, 1.03])\n",
    "ax0.set_ylim([-1.0, 1.0])\n",
    "ax0.set_yticks([-1.0, 0.0, 1.0])\n",
    "ax0.set_title('Trivial bandstructure')\n",
    "ax1 = f.add_subplot(1, 2, 2)\n",
    "ax1.set_xlabel('$k$')\n",
    "ax1.set_xticks([-1.0, 0.0, 1.0])\n",
    "ax1.set_ylabel('$E$')\n",
    "ax1.set_xlim([-1.03, 1.03])\n",
    "ax1.set_ylim([-1.0, 1.0])\n",
    "ax1.set_yticks([-1.0, 0.0, 1.0])\n",
    "ax1.set_title('Topological bandstructure')\n",
    "sys0 = spinful_kitaev_chain(L=None, t=1.0, delta=0.1, mu=-0.3, B=0)\n",
    "sys1 = spinful_kitaev_chain(L=None, t=1.0, delta=0.1, mu=0.3, B=0)\n",
    "\n",
    "ax0.set_color_cycle(['k'])\n",
    "ax1.set_color_cycle(['k'])\n",
    "\n",
    "kwant.plotter.bands(sys0, momenta=201, ax=ax0)\n",
    "kwant.plotter.bands(sys1, momenta=201, ax=ax1)"
   ]
  },
  {
   "cell_type": "markdown",
   "metadata": {},
   "source": [
    "# The need for spin"
   ]
  },
  {
   "cell_type": "markdown",
   "metadata": {},
   "source": [
    "Still, there is one obvious thing missing from the model, and it is the electron spin. This model works with some hypothetical spinless fermions, that are nowhere to be found. So to make the model physical, we need to remember that every single particle has spin, and the Hamiltonian has some action in spin space, described by Pauli matrices $\\sigma$.\n",
    "\n",
    "The simplest thing which we can do is to just add the spin as an extra degeneracy, so to multiply every term in the Hamiltonian by $\\sigma_0$. Obviously this doesn't change the spectrum, and a zero energy solution stays a zero energy solution."
   ]
  },
  {
   "cell_type": "markdown",
   "metadata": {},
   "source": [
    "Just kidding, this would be very bad! The problem about adding spin is that the whole point of a Kitaev chain is to create *unpaired* Majorana modes. Now if we add an extra spin degeneracy to these Majoranas, the edge of our chain now hosts two Majoranas, or in other words one regular fermion fine-tuned to zero energy.\n",
    "\n",
    "What's the correct way of introducing spin then? We still need to add the spin, but let's make the Kitaev chain corresponding to one spin species topologically trivial, and another one non-trivial. We know that the chemical potential $\\mu$ controls if the chain is topological, so if say spin up has $\\mu > 0$ and spin down $\\mu < 0$, we're back in business.\n",
    "\n",
    "We achieve this by adding Zeeman coupling of the spin to an external magnetic field:\n",
    "\n",
    "$$H = (k^2/2m - \\mu - B \\sigma_z) \\tau_z + 2 \\Delta \\tau_y k.$$\n",
    "\n",
    "Whenever the Zeeman energy $|B|$ is larger than $\\mu$ we have one Majorana fermion at the end of the chain.\n",
    "\n",
    "Let's look at what happens with the dispersion as we increase the magnetic field from zero to a value larger than $\\mu$."
   ]
  },
  {
   "cell_type": "code",
   "execution_count": null,
   "metadata": {
    "collapsed": false
   },
   "outputs": [],
   "source": [
    "# Plot of the Kitaev dispersion with Zeeman as a parameter. \n",
    "# mu should be a few times larger than the gap, so that there is a mexican hat dispersion.\n",
    "def kitaev_bands(B):\n",
    "    sys = spinful_kitaev_chain(None, 1.0, 0.1, 0.3, B)\n",
    "    momenta   = np.linspace(-1.03, 1.03, 201)\n",
    "    bands = kwant.physics.Bands(sys)\n",
    "    energies = [bands(k) for k in momenta]\n",
    "    \n",
    "    fig = plt.figure()\n",
    "    plt.plot(momenta, energies, 'k-')\n",
    "    \n",
    "    plt.xlabel('$k$')\n",
    "    plt.xticks([-1.0, 0.0, 1.0])\n",
    "    plt.ylabel('$E$')\n",
    "    plt.xlim([-1.03, 1.03])\n",
    "    plt.ylim([-1.0, 1.0])\n",
    "    plt.yticks([-1.0, 0.0, 1.0])\n",
    "    plt.title('Band structure')\n",
    "    return fig\n",
    "\n",
    "StaticInteract(lambda B: kitaev_bands(B*0.05),\n",
    "               B = RangeWidget(0, 8))"
   ]
  },
  {
   "cell_type": "markdown",
   "metadata": {},
   "source": [
    "We now see that we resolved the first problem:\n",
    "\n",
    "> A high enough **Zeeman splitting** allows to separate the different spins.\n",
    "> Then we can make one spin species trivial, while another one is topological and hosts Majoranas."
   ]
  },
  {
   "cell_type": "markdown",
   "metadata": {},
   "source": [
    "# Realistic superconducting pairing"
   ]
  },
  {
   "cell_type": "markdown",
   "metadata": {},
   "source": [
    "The next part for us to worry about is the superconductor.\n",
    "\n",
    "Something that you probably saw in the Kitaev chain Hamiltonian is that the superconducting pairing $\\Delta$ has a peculiar form. It pairs electrons from *neighboring* sites, and not those from the same site. In a momentum space this means that the superconducting pairing is proportional to $\\Delta k$.\n",
    "\n",
    "Of course, in a Kitaev chain the superconducting pairing cannot couple two electrons from the same site since there is just one particle per site!\n",
    "\n",
    "The real world superconductors are different. Most of them, and specifically all the common superconductors like $Al$, $Nb$, $Pb$, $Sn$ have the $s$-wave pairing. This means that the pairing has no momentum dependence, and it is local in real space. The Kitaev chain pairing is proportional to the first power of momentum and so it is a $p$-wave pairing.\n",
    "\n",
    "[High temperature superconductors](https://en.wikipedia.org/wiki/High-temperature_superconductivity) like cuprates or pnictides do have a momentum-dependent pairing, but it's a yet another type ($d$-wave, or a more exotic $s\\pm$-wave).\n",
    "\n",
    "So if we want to invent a way to make Majoranas, we will need to use the $s$-wave pairing. And then, as you should remember from the previous week, due to the fermionic statistics the pairing function should be antisymmetric. In a Kitaev chain the antisymmetry was due to the real space structure of the pairing, but in an $s$-wave superconductor, the antisymmetry of the pairing should arise due to its spin structure.\n",
    "\n",
    "This leaves only one option. All the $s$-wave superconductors are spin-singlet:\n",
    "\n",
    "$$H_{pair} = \\Delta(c_\\uparrow c_\\downarrow - c_\\downarrow c_\\uparrow) + \\text{h.c.}$$\n",
    "\n",
    "This means that now we need to modify the pairing, but before that we'll need to do one other important thing."
   ]
  },
  {
   "cell_type": "markdown",
   "metadata": {},
   "source": [
    "### Important and useful basis change."
   ]
  },
  {
   "cell_type": "markdown",
   "metadata": {},
   "source": [
    "When you see Bogoliubov-de-Gennes Hamiltonians in the literature, you will find them written in two different bases.\n",
    "One variant is the one which we introduced last week:\n",
    "\n",
    "$$\n",
    "H_\\textrm{BdG} = \\begin{pmatrix} H & \\Delta \\\\ -\\Delta^* & -H^* \\end{pmatrix}.\n",
    "$$\n",
    "\n",
    "It has the particle-hole symmetry $H_\\textrm{BdG} = - \\tau_x H^*_\\textrm{BdG} \\tau_x$. In this basis, the $s$-wave pairing is proportional to $\\sigma_y$.\n",
    "\n",
    "However for systems with complicated spin and orbital structure, there is a different basis which makes the book-keeping much easier.\n",
    "\n",
    "If we have a time-reversal symmetry operator $\\mathcal{T} = U \\mathcal{K}$, we can apply the unitary transformation $U$ to the holes, so that in the new basis we get the Bogoliubov-de-Gennes Hamiltonian\n",
    "\n",
    "$$\n",
    "H_\\textrm{BdG} = \\begin{pmatrix} H & \\Delta' \\\\ \\Delta'^\\dagger & -\\mathcal{T} H \\mathcal{T}^{-1}\\end{pmatrix},\n",
    "$$\n",
    "\n",
    "with $\\Delta' = \\Delta U^\\dagger$.\n",
    "\n",
    "Why is this basis useful?\n",
    "\n",
    "* First of all, because in this new basis the $s$-wave pairing is a unit matrix regardless of system we consider.\n",
    "* Second, because it's easy to get the Hamiltonian of holes. We take the Hamiltonian for electrons, changing the signs of all terms that respect time-reversal symmetry, but not for those that break it, such as the term proportional to the magnetic field $B$. So if the electrons have a Hamiltonian $H(B)$, the Hamiltonian of the holes just becomes $-H(-B)$.\n",
    "\n",
    "There is one disadvantage. The particle-hole symmetry now becomes more complicated. For our system with only one orbital and spin it is $\\mathcal{P} = \\sigma_y \\tau_y \\mathcal{K}$. But, let us tell you, the advantages are worth it."
   ]
  },
  {
   "cell_type": "markdown",
   "metadata": {},
   "source": [
    "# s-wave superconductor with magnetic field"
   ]
  },
  {
   "cell_type": "markdown",
   "metadata": {},
   "source": [
    "Let's look at how our chain looks once we change the superconducting coupling to be $s$-wave. The Zeeman field (or anything of magnetic origin) changes sign under time-reversal symmetry. \n",
    "\n",
    "This means that the Zeeman field has the same form for electrons and for holes in the new basis, and the full Hamiltonian is now:\n",
    "\n",
    "$$\n",
    "H_\\textrm{BdG} = (k^2/2m - \\mu)\\tau_z + B \\sigma_z + \\Delta \\tau_x.\n",
    "$$\n",
    "\n",
    "This Hamiltonian is easy to diagonalize since every term either has only a $\\tau$ matrix or a $\\sigma$ matrix. At $k=0$ it has 4 levels with energies $E = \\pm B \\pm \\sqrt{\\mu^2 + \\Delta^2}$.\n",
    "\n",
    "We can use this expression to track the crossings. We also know that when $B=0$ the system is trivial due to spin degeneracy.\n",
    "Together this means that we expect the system to be non-trivial (and will have negative Pfaffian invariant) when\n",
    "\n",
    "$$ B^2 > \\Delta^2 + \\mu^2.$$\n",
    "\n",
    "Are we now done? Not quite."
   ]
  },
  {
   "cell_type": "markdown",
   "metadata": {},
   "source": [
    "### Problem with singlets"
   ]
  },
  {
   "cell_type": "markdown",
   "metadata": {},
   "source": [
    "A singlet superconductor has an important property: Since electrons are created in singlets, the total spin of every excitation is conserved. Zeeman field conserves the spin in $z$-direction, so together every single state of our system has to have a definite spin, *including the Majoranas*.\n",
    "\n",
    "And that is a big problem. Majoranas are their own particle-hole partners, and that means that they cannot have any spin (energy, charge, or any other observable property at all).\n",
    "\n",
    "So does this now mean that we \"broke\" the bulk-edge correspondence? Let's look at the band structure (tweak the Zeeman energy):"
   ]
  },
  {
   "cell_type": "code",
   "execution_count": null,
   "metadata": {
    "collapsed": false
   },
   "outputs": [],
   "source": [
    "StaticInteract(lambda B: spinorbit_band(1.0, 0.0, 0.1, 0.04*B, 0.0),  \n",
    "        B = RangeWidget(0, 5, 1))"
   ]
  },
  {
   "cell_type": "markdown",
   "metadata": {},
   "source": [
    "Of course we didn't break bulk-edge correspondence. Majoranas in our system would have to have a spin, which isn't possible. That in turn means that they cannot appear, and that means that the system cannot be gapped.\n",
    "\n",
    "We can also approach this differently. From all the spin Pauli matrices, only $\\sigma_z$ appears in the Hamiltonian, and there's a conservation law. The two bands that cross at zero energy in the band structure above belong to opposite spin bands, and so cannot be coupled.\n",
    "\n",
    "Now we need to solve this final problem before we are done."
   ]
  },
  {
   "cell_type": "markdown",
   "metadata": {},
   "source": [
    "# How to open the gap?"
   ]
  },
  {
   "cell_type": "markdown",
   "metadata": {},
   "source": [
    "The final stretch is straightforward.\n",
    "\n",
    "We know that there is no gap because of conservation of one of the spin projections, so we need to break the spin conservation.\n",
    "\n",
    "If we don't want to create an inhomogeneous magnetic field, we have to use a different term that couples to spin. That term is spin-orbit interaction. In it's [simplest form](http://en.wikipedia.org/wiki/Rashba_effect) this interaction appears in our wire as\n",
    "\n",
    "$$H_{SO} = \\alpha \\sigma_y k,$$\n",
    "\n",
    "So it is like a Zeeman field pointing in $y$-direction with a strength proportional to the particle momentum. Note that this term is invariant under time reversal symmetry (both $\\sigma_y$ and $k$ change sign). So now we have our final Hamiltonian:\n",
    "\n",
    "$$\n",
    "H_\\textrm{wire} = (k^2/2m + \\alpha \\sigma_y k - \\mu)\\tau_z + B \\sigma_z + \\Delta \\tau_x.\n",
    "$$"
   ]
  },
  {
   "cell_type": "markdown",
   "metadata": {},
   "source": [
    "At $k = 0$, spin-orbit coupling vanishes, so it has no effect on the system being topologically trivial or non-trivial.\n",
    "\n",
    "Let's now check that it does what we want, namely open the gap at a finite momentum:"
   ]
  },
  {
   "cell_type": "code",
   "execution_count": null,
   "metadata": {
    "collapsed": false
   },
   "outputs": [],
   "source": [
    "StaticInteract(lambda alpha: spinorbit_band(1., 0.1, 0.1, 0.2, 0.05*alpha), \n",
    "               alpha=RangeWidget(0, 8, 1, default=0))    "
   ]
  },
  {
   "cell_type": "markdown",
   "metadata": {},
   "source": [
    "Yep, it does :)\n",
    "\n",
    "An important remark: You might now think that since spin-orbit depends on spin, spin-orbit we would make the magnetic field unnecessary. This is not true: Since spin-orbit preserves time-reversal symmetry, in the absence of a magnetic field the energy spectrum of the model would have a *Kramers degeneracy*, as you learned last week. To get one unpaired Majorana mode per edge and not two, we need to break Kramers degeneracy and therefore break time-reversal symmetry. So the combination of both Zeeman field and spin-orbit coupling is needed."
   ]
  },
  {
   "cell_type": "markdown",
   "metadata": {},
   "source": [
    "# Putting everything together"
   ]
  },
  {
   "cell_type": "markdown",
   "metadata": {},
   "source": [
    "Let's now rest for a moment and reflect on what we have done.\n",
    "\n",
    "We started from a toy model, which has a very special feature. Then one by one we fixed the parts of the model that we found unrealistic and we ended up with a new system, which still has a relatively simple Hamiltonian, but already gives a hope of being realizable in a lab.\n",
    "\n",
    "Now try to guess: how many papers were written studying this exact model? The exact number is hard to obtain, but the count is in hundreds!\n",
    "\n",
    "Despite the model being very simple and the fact that it can be written in one line, it has four independent parameters already in our simplest formulation. Let's enumerate the parameters once again:\n",
    "\n",
    "* The chemical potential $\\mu$, which sets the overall electron density in the wire.\n",
    "* The induced superconducting gap $\\Delta$, which is required to make particle-hole symmetry play a role.\n",
    "* The spin-orbit coupling $\\alpha$, which breaks spin conservation.\n",
    "* The Zeeman field $B$, which breaks Kramers degeneracy."
   ]
  },
  {
   "cell_type": "markdown",
   "metadata": {},
   "source": [
    "We need to control every single parameter out of these 4 to create Majoranas (and there are even more). This is why the task of creating Majoranas is extremely challenging.\n",
    "\n",
    "As a final point in our story, let's see how the four parameters work together in determining how large the gap in our system is.\n",
    "\n",
    "Obviously, this is the key parameter that we care about when creating Majoranas.\n",
    "The smaller the gap, the worse the protection of Majoranas, and the more we need to worry about the effects of finite temperature.\n",
    "\n",
    "Let's calculate the gap as a function of all of the relevant parameters."
   ]
  },
  {
   "cell_type": "code",
   "execution_count": null,
   "metadata": {
    "collapsed": false
   },
   "outputs": [],
   "source": [
    "B_vals = np.linspace(0, 0.3, 71)\n",
    "StaticInteract(lambda mu: spinorbit_band_gap(mu*0.025, 1.0, 0.1, B_vals), \n",
    "        mu=RangeWidget(-2, 6, 1)) "
   ]
  },
  {
   "cell_type": "markdown",
   "metadata": {},
   "source": [
    "Here the vertical line denotes the critical value of Zeeman field at which the wire becomes topological.\n",
    "\n",
    "Let's summarize our observations:\n",
    "\n",
    "* So we see that the closer $\\mu$ is to 0, the lower $B$ is required to reach the topological regime.\n",
    "* After reaching the topologically nontrivial regime, the gap slowly grows as we go away from the transition region, and after reaching its peak value, it starts dropping.\n",
    "* Finally, we see that the higher the spin-orbit coupling, the larger the optimal gap in the topological regime.\n",
    "\n",
    "We finish our investigation of this model for now with a final simple picture of the band structure of our system."
   ]
  },
  {
   "cell_type": "code",
   "execution_count": null,
   "metadata": {
    "collapsed": false
   },
   "outputs": [],
   "source": [
    "StaticInteract(lambda mu: spinorbit_band(t=1.0, mu=0.025*mu + 0.02, delta=0.025, B=0.07, alpha=0.8), \n",
    "        mu=RangeWidget(-8, 8, 0.5, default=-8))"
   ]
  },
  {
   "cell_type": "markdown",
   "metadata": {},
   "source": [
    "When $\\mu$ is very negative we see two split electron bands at positive energy corresponding to two spin orientations.\n",
    "\n",
    "The lower of these two bands has a characteristic double minimum due to spin-orbit coupling.\n",
    "\n",
    "As we increase $\\mu$, the bands move down in energy, until they couple with the hole bands at $E=0$. This only happens due to the combination of superconductivity and spin-orbit.\n",
    "\n",
    "At $k=0$ the spin-orbit is ineffective, so the electron and hole bands pass through each other, changing the system first from trivial to topological and then back.\n",
    "\n",
    "The non-monotonous behavior of the gap versus $B$ that we saw earlier is a consequence of this complicated band structure: There are different values of momenta where the dispersion has local minima. When we are close to the phase transition, $k=0$ defines the gap, while for large $B$, it is the gap at finite momentum that becomes smallest."
   ]
  },
  {
   "cell_type": "code",
   "execution_count": null,
   "metadata": {
    "collapsed": false
   },
   "outputs": [],
   "source": [
    "question = (\"What happens if we align the magnetic field $B$ along the $y$-direction instead of the $z$-direction?\")\n",
    "answers = [\"Then we do not need spin-orbit coupling anymore in order to get Majoranas.\",\n",
    "           \"Then spin projection along $y$ direction is conserved, so we can't get Majoranas.\",\n",
    "           \"It's impossible, because a magnetic field can only be applied along $z$.\",\n",
    "           \"Then the spin-orbit term is automatically modified to point along the $z$ direction, so nothing really changes.\"]\n",
    "explanation = (\"If both the magnetic field and the spin orbit coupling point in the $y$ direction, \" +\n",
    "               \"then the Hamiltonian commutes with $\\sigma_y$, and spin projection along $y$ is a good quantum number. \" +\n",
    "               \"So we are back to the problem that a gap at finite momentum does not open, \" +\n",
    "               \"and we do not get a topological phase supporting Majoranas.\")\n",
    "MoocMultipleChoiceAssessment(question, answers, correct_answer=1, explanation=explanation)"
   ]
  },
  {
   "cell_type": "markdown",
   "metadata": {},
   "source": [
    "# Outlook"
   ]
  },
  {
   "cell_type": "code",
   "execution_count": null,
   "metadata": {
    "collapsed": false
   },
   "outputs": [],
   "source": [
    "MoocVideo(\"MsFyJBAMFLI\", src_location=\"2.1-summary\")"
   ]
  },
  {
   "cell_type": "code",
   "execution_count": null,
   "metadata": {
    "collapsed": false
   },
   "outputs": [],
   "source": [
    "MoocDiscussion(\"Questions\", \"Majoranas in nanowires\")"
   ]
  }
 ],
 "metadata": {
  "kernelspec": {
   "display_name": "Python 2",
   "language": "python",
   "name": "python2"
  },
  "language_info": {
   "codemirror_mode": {
    "name": "ipython",
    "version": 2
   },
   "file_extension": ".py",
   "mimetype": "text/x-python",
   "name": "python",
   "nbconvert_exporter": "python",
   "pygments_lexer": "ipython2",
   "version": "2.7.9"
  }
 },
 "nbformat": 4,
 "nbformat_minor": 0
}
